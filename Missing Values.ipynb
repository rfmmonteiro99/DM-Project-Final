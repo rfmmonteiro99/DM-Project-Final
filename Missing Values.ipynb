{
 "cells": [
  {
   "cell_type": "code",
   "execution_count": null,
   "metadata": {},
   "outputs": [],
   "source": [
    "import pandas as pd\n",
    "import numpy as np"
   ]
  },
  {
   "cell_type": "code",
   "execution_count": null,
   "metadata": {},
   "outputs": [],
   "source": [
    "pd.set_option('display.max_rows', 100)"
   ]
  },
  {
   "cell_type": "code",
   "execution_count": null,
   "metadata": {
    "scrolled": true
   },
   "outputs": [],
   "source": [
    "data = pd.read_csv('donors.csv')\n",
    "data.drop('Unnamed: 0', axis = 1, inplace  = True)\n",
    "data.head()"
   ]
  },
  {
   "cell_type": "code",
   "execution_count": null,
   "metadata": {
    "scrolled": false
   },
   "outputs": [],
   "source": [
    "# Number of missing values by column\n",
    "data.isna().sum()[data.isna().sum()>0].sort_values(ascending = False)"
   ]
  },
  {
   "cell_type": "code",
   "execution_count": null,
   "metadata": {},
   "outputs": [],
   "source": [
    "# Number of Missing Values by row\n",
    "data.isna().apply(lambda x: sum(x), axis=1).value_counts().sort_index()"
   ]
  },
  {
   "cell_type": "code",
   "execution_count": null,
   "metadata": {},
   "outputs": [],
   "source": [
    "donors = data.copy()"
   ]
  },
  {
   "cell_type": "code",
   "execution_count": null,
   "metadata": {},
   "outputs": [],
   "source": [
    "# Variables with more than 70% missing values -> RDATE | RAMNT | NUMCHLD\n",
    "(round((donors.isna().sum()[donors.isna().sum()>0])/len(donors),4))[(donors.isna().sum()[donors.isna().sum()>0])/len(donors) > 0.7].sort_values(ascending = False)\n",
    "\n",
    "# Solução\n",
    "\n",
    "# drop 'RDATE_','RAMNT_','ADATE_'\n",
    "\n",
    "# drop 'NUMCHLD' -> Criar binária: Filhos menores de Idade\n",
    "\n",
    "# Se 'CHILD03','CHILD07','CHILD12','CHILD18' = ' ', e NUMCHLD != 0 -> Filhos maiores de idade -> não é incoerente\n",
    "\n",
    "# Tem M ou F nas 'CHILD03','CHILD07','CHILD12','CHILD18' e NUMCHLD == 0:\n",
    "# data.loc[(((data['CHILD03'] != ' ') | (data['CHILD07'] != ' ') | (data['CHILD12'] != ' ') | (data['CHILD18'] != ' ')) & np.isnan(data['NUMCHLD'])),['CHILD03','CHILD07','CHILD12','CHILD18','NUMCHLD']]"
   ]
  },
  {
   "cell_type": "code",
   "execution_count": null,
   "metadata": {},
   "outputs": [],
   "source": [
    "# Drop 'ADATE_x'\n",
    "donors = donors.drop(columns = donors.loc[:,'ADATE_2':'ADATE_24'].columns)"
   ]
  },
  {
   "cell_type": "code",
   "execution_count": null,
   "metadata": {},
   "outputs": [],
   "source": [
    "# Drop 'RDATE_x','RAMNT_x'\n",
    "donors = donors.drop(columns = donors.loc[:,'RDATE_3':'RAMNT_24'].columns)"
   ]
  },
  {
   "cell_type": "code",
   "execution_count": null,
   "metadata": {},
   "outputs": [],
   "source": [
    "# Drop 'NUMCHLD'\n",
    "donors = donors.drop(columns = 'NUMCHLD')"
   ]
  },
  {
   "cell_type": "code",
   "execution_count": null,
   "metadata": {},
   "outputs": [],
   "source": [
    "# Variables with less than 70% missing values\n",
    "(round((donors.isna().sum()[donors.isna().sum()>0])/len(donors),4))[(donors.isna().sum()[donors.isna().sum()>0])/len(donors) < 0.7].sort_values(ascending = False)\n",
    "\n",
    "\n",
    "# 'GEOCODE' -> FICA DE LADO\n",
    "\n",
    "# 'DOB','INCOME' -> prever\n",
    "\n",
    "\n",
    "# 'MBCRAFT':'PUBOPP' -> prever \n",
    "# data.loc[:,'MBCRAFT':'PUBOPP']\n",
    "\n",
    "\n",
    "# drop 'WEALTH1' -> Pouca informação no metadata, não conseguimos diferenciar da 'WEALTH2'\n",
    "# 'WEALTH2' ->  prever \n",
    "\n",
    "\n",
    "# 'GEOCODE2' -> PREVER \n",
    "# Há NaN's em 'GEOCODE2' para 'ZIP' que têm 'GEOCODE2' -> preencher os NaN's com o valor que existe noutra row com o mesmo 'ZIP'"
   ]
  },
  {
   "cell_type": "code",
   "execution_count": null,
   "metadata": {},
   "outputs": [],
   "source": [
    "# 'DOB','INCOME' -> prever\n"
   ]
  },
  {
   "cell_type": "code",
   "execution_count": null,
   "metadata": {},
   "outputs": [],
   "source": [
    "# 'MBCRAFT':'PUBOPP' -> prever \n"
   ]
  },
  {
   "cell_type": "code",
   "execution_count": null,
   "metadata": {},
   "outputs": [],
   "source": [
    "# drop 'WEALTH1' -> Pouca informação no metadata, não conseguimos diferenciar da 'WEALTH2'\n",
    "donors = donors.drop(columns = 'WEALTH1')\n",
    "\n",
    "# 'WEALTH2' ->  prever"
   ]
  },
  {
   "cell_type": "code",
   "execution_count": null,
   "metadata": {},
   "outputs": [],
   "source": [
    "# Há NaN's em 'GEOCODE2' para 'ZIP' que têm 'GEOCODE2' -> preencher os NaN's com o valor que existe noutra row com o mesmo 'ZIP'\n",
    "geo_nans =  donors.loc[train['ZIP'].isin(donors.loc[donors['GEOCODE2'].isna() == True, 'ZIP'].unique()), ['ZIP','GEOCODE2']].sort_values(by='ZIP')\n",
    "geo_no_nans = geo_nans.loc[geo_nans['GEOCODE2'].isna() == False].drop_duplicates()\n",
    "\n",
    "for zipcode in geo_nans['ZIP'].unique():\n",
    "        \n",
    "        if zipcode in geo_no_nans['ZIP'].values:\n",
    "            \n",
    "            donors.loc[train['ZIP'] == zipcode, 'GEOCODE2'] = geo_no_nans.loc[geo_no_nans['ZIP'] == zipcode, 'GEOCODE2'].values[0]    \n",
    "            \n",
    "# 'GEOCODE2' -> PREVER\n"
   ]
  }
 ],
 "metadata": {
  "kernelspec": {
   "display_name": "Python 3",
   "language": "python",
   "name": "python3"
  },
  "language_info": {
   "codemirror_mode": {
    "name": "ipython",
    "version": 3
   },
   "file_extension": ".py",
   "mimetype": "text/x-python",
   "name": "python",
   "nbconvert_exporter": "python",
   "pygments_lexer": "ipython3",
   "version": "3.8.5"
  }
 },
 "nbformat": 4,
 "nbformat_minor": 4
}
