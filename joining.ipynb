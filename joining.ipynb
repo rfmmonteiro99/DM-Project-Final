{
 "cells": [
  {
   "cell_type": "code",
   "execution_count": 1,
   "metadata": {},
   "outputs": [
    {
     "name": "stdout",
     "output_type": "stream",
     "text": [
      "Collecting nbmerge\n",
      "  Downloading nbmerge-0.0.4.tar.gz (7.6 kB)\n",
      "Note: you may need to restart the kernel to use updated packages.\n",
      "Building wheels for collected packages: nbmerge\n",
      "  Building wheel for nbmerge (setup.py): started\n",
      "  Building wheel for nbmerge (setup.py): finished with status 'done'\n",
      "  Created wheel for nbmerge: filename=nbmerge-0.0.4-py2.py3-none-any.whl size=6409 sha256=232e8a03bafd58bbebf5ef032255cca37da109d3d6ea771ba54d9cb8cc6b2610\n",
      "  Stored in directory: c:\\users\\ruifi\\appdata\\local\\pip\\cache\\wheels\\2d\\3c\\a9\\8753a8ef327aca9c908d4f150628b87b548e1659ecc5fe1b54\n",
      "Successfully built nbmerge\n",
      "Installing collected packages: nbmerge\n",
      "Successfully installed nbmerge-0.0.4\n"
     ]
    }
   ],
   "source": [
    "pip install nbmerge"
   ]
  },
  {
   "cell_type": "code",
   "execution_count": null,
   "metadata": {},
   "outputs": [],
   "source": [
    "nbmerge \"Import & Assessing Data.ipynb\" \"Data Treatment V2 - Rui.ipynb\" \"Incoherence.Bruno.ipynb\" > project_notebook.ipynb"
   ]
  }
 ],
 "metadata": {
  "kernelspec": {
   "display_name": "Python 3",
   "language": "python",
   "name": "python3"
  },
  "language_info": {
   "codemirror_mode": {
    "name": "ipython",
    "version": 3
   },
   "file_extension": ".py",
   "mimetype": "text/x-python",
   "name": "python",
   "nbconvert_exporter": "python",
   "pygments_lexer": "ipython3",
   "version": "3.8.5"
  }
 },
 "nbformat": 4,
 "nbformat_minor": 4
}
