{
 "cells": [
  {
   "cell_type": "code",
   "execution_count": 41,
   "metadata": {},
   "outputs": [],
   "source": [
    "import pandas as pd\n",
    "import numpy as np\n",
    "import datetime\n",
    "import os"
   ]
  },
  {
   "cell_type": "code",
   "execution_count": 42,
   "metadata": {},
   "outputs": [
    {
     "name": "stderr",
     "output_type": "stream",
     "text": [
      "D:\\Programas\\Anaconda\\envs\\dmi\\lib\\site-packages\\IPython\\core\\interactiveshell.py:3145: DtypeWarning: Columns (9,412) have mixed types.Specify dtype option on import or set low_memory=False.\n",
      "  has_raised = await self.run_ast_nodes(code_ast.body, cell_name,\n"
     ]
    }
   ],
   "source": [
    "#pd.set_option('display.max_columns', None)\n",
    "path = os.path.join('..', 'data', 'donors.csv')\n",
    "\n",
    "donors = pd.read_csv(path, sep = ',')\n",
    "\n",
    "pd.set_option('display.max_columns', None)"
   ]
  },
  {
   "cell_type": "code",
   "execution_count": 43,
   "metadata": {},
   "outputs": [
    {
     "data": {
      "text/plain": [
       "['Unnamed: 0',\n",
       " 'ODATEDW',\n",
       " 'OSOURCE',\n",
       " 'TCODE',\n",
       " 'STATE',\n",
       " 'ZIP',\n",
       " 'MAILCODE',\n",
       " 'PVASTATE',\n",
       " 'DOB',\n",
       " 'NOEXCH',\n",
       " 'RECINHSE',\n",
       " 'RECP3',\n",
       " 'RECPGVG',\n",
       " 'RECSWEEP',\n",
       " 'MDMAUD',\n",
       " 'DOMAIN',\n",
       " 'HOMEOWNR',\n",
       " 'CHILD03',\n",
       " 'CHILD07',\n",
       " 'CHILD12',\n",
       " 'CHILD18',\n",
       " 'NUMCHLD',\n",
       " 'INCOME',\n",
       " 'GENDER',\n",
       " 'WEALTH1',\n",
       " 'HIT',\n",
       " 'MBCRAFT',\n",
       " 'MBGARDEN',\n",
       " 'MBBOOKS',\n",
       " 'MBCOLECT',\n",
       " 'MAGFAML',\n",
       " 'MAGFEM',\n",
       " 'MAGMALE',\n",
       " 'PUBGARDN',\n",
       " 'PUBCULIN',\n",
       " 'PUBHLTH',\n",
       " 'PUBDOITY',\n",
       " 'PUBNEWFN',\n",
       " 'PUBPHOTO',\n",
       " 'PUBOPP',\n",
       " 'DATASRCE',\n",
       " 'MALEMILI',\n",
       " 'MALEVET',\n",
       " 'VIETVETS',\n",
       " 'WWIIVETS',\n",
       " 'LOCALGOV',\n",
       " 'STATEGOV',\n",
       " 'FEDGOV',\n",
       " 'SOLP3',\n",
       " 'SOLIH',\n",
       " 'MAJOR',\n",
       " 'WEALTH2',\n",
       " 'GEOCODE',\n",
       " 'COLLECT1',\n",
       " 'VETERANS',\n",
       " 'BIBLE',\n",
       " 'CATLG',\n",
       " 'HOMEE',\n",
       " 'PETS',\n",
       " 'CDPLAY',\n",
       " 'STEREO',\n",
       " 'PCOWNERS',\n",
       " 'PHOTO',\n",
       " 'CRAFTS',\n",
       " 'FISHER',\n",
       " 'GARDENIN',\n",
       " 'BOATS',\n",
       " 'WALKER',\n",
       " 'KIDSTUFF',\n",
       " 'CARDS',\n",
       " 'PLATES',\n",
       " 'LIFESRC',\n",
       " 'PEPSTRFL',\n",
       " 'POP901',\n",
       " 'POP902',\n",
       " 'POP903',\n",
       " 'POP90C1',\n",
       " 'POP90C2',\n",
       " 'POP90C3',\n",
       " 'POP90C4',\n",
       " 'POP90C5',\n",
       " 'ETH1',\n",
       " 'ETH2',\n",
       " 'ETH3',\n",
       " 'ETH4',\n",
       " 'ETH5',\n",
       " 'ETH6',\n",
       " 'ETH7',\n",
       " 'ETH8',\n",
       " 'ETH9',\n",
       " 'ETH10',\n",
       " 'ETH11',\n",
       " 'ETH12',\n",
       " 'ETH13',\n",
       " 'ETH14',\n",
       " 'ETH15',\n",
       " 'ETH16',\n",
       " 'AGE901',\n",
       " 'AGE902',\n",
       " 'AGE903',\n",
       " 'AGE904',\n",
       " 'AGE905',\n",
       " 'AGE906',\n",
       " 'AGE907',\n",
       " 'CHIL1',\n",
       " 'CHIL2',\n",
       " 'CHIL3',\n",
       " 'AGEC1',\n",
       " 'AGEC2',\n",
       " 'AGEC3',\n",
       " 'AGEC4',\n",
       " 'AGEC5',\n",
       " 'AGEC6',\n",
       " 'AGEC7',\n",
       " 'CHILC1',\n",
       " 'CHILC2',\n",
       " 'CHILC3',\n",
       " 'CHILC4',\n",
       " 'CHILC5',\n",
       " 'HHAGE1',\n",
       " 'HHAGE2',\n",
       " 'HHAGE3',\n",
       " 'HHN1',\n",
       " 'HHN2',\n",
       " 'HHN3',\n",
       " 'HHN4',\n",
       " 'HHN5',\n",
       " 'HHN6',\n",
       " 'MARR1',\n",
       " 'MARR2',\n",
       " 'MARR3',\n",
       " 'MARR4',\n",
       " 'HHP1',\n",
       " 'HHP2',\n",
       " 'DW1',\n",
       " 'DW2',\n",
       " 'DW3',\n",
       " 'DW4',\n",
       " 'DW5',\n",
       " 'DW6',\n",
       " 'DW7',\n",
       " 'DW8',\n",
       " 'DW9',\n",
       " 'HV1',\n",
       " 'HV2',\n",
       " 'HV3',\n",
       " 'HV4',\n",
       " 'HU1',\n",
       " 'HU2',\n",
       " 'HU3',\n",
       " 'HU4',\n",
       " 'HU5',\n",
       " 'HHD1',\n",
       " 'HHD2',\n",
       " 'HHD3',\n",
       " 'HHD4',\n",
       " 'HHD5',\n",
       " 'HHD6',\n",
       " 'HHD7',\n",
       " 'HHD8',\n",
       " 'HHD9',\n",
       " 'HHD10',\n",
       " 'HHD11',\n",
       " 'HHD12',\n",
       " 'ETHC1',\n",
       " 'ETHC2',\n",
       " 'ETHC3',\n",
       " 'ETHC4',\n",
       " 'ETHC5',\n",
       " 'ETHC6',\n",
       " 'HVP1',\n",
       " 'HVP2',\n",
       " 'HVP3',\n",
       " 'HVP4',\n",
       " 'HVP5',\n",
       " 'HVP6',\n",
       " 'HUR1',\n",
       " 'HUR2',\n",
       " 'RHP1',\n",
       " 'RHP2',\n",
       " 'RHP3',\n",
       " 'RHP4',\n",
       " 'HUPA1',\n",
       " 'HUPA2',\n",
       " 'HUPA3',\n",
       " 'HUPA4',\n",
       " 'HUPA5',\n",
       " 'HUPA6',\n",
       " 'HUPA7',\n",
       " 'RP1',\n",
       " 'RP2',\n",
       " 'RP3',\n",
       " 'RP4',\n",
       " 'MSA',\n",
       " 'ADI',\n",
       " 'DMA',\n",
       " 'IC1',\n",
       " 'IC2',\n",
       " 'IC3',\n",
       " 'IC4',\n",
       " 'IC5',\n",
       " 'IC6',\n",
       " 'IC7',\n",
       " 'IC8',\n",
       " 'IC9',\n",
       " 'IC10',\n",
       " 'IC11',\n",
       " 'IC12',\n",
       " 'IC13',\n",
       " 'IC14',\n",
       " 'IC15',\n",
       " 'IC16',\n",
       " 'IC17',\n",
       " 'IC18',\n",
       " 'IC19',\n",
       " 'IC20',\n",
       " 'IC21',\n",
       " 'IC22',\n",
       " 'IC23',\n",
       " 'HHAS1',\n",
       " 'HHAS2',\n",
       " 'HHAS3',\n",
       " 'HHAS4',\n",
       " 'MC1',\n",
       " 'MC2',\n",
       " 'MC3',\n",
       " 'TPE1',\n",
       " 'TPE2',\n",
       " 'TPE3',\n",
       " 'TPE4',\n",
       " 'TPE5',\n",
       " 'TPE6',\n",
       " 'TPE7',\n",
       " 'TPE8',\n",
       " 'TPE9',\n",
       " 'PEC1',\n",
       " 'PEC2',\n",
       " 'TPE10',\n",
       " 'TPE11',\n",
       " 'TPE12',\n",
       " 'TPE13',\n",
       " 'LFC1',\n",
       " 'LFC2',\n",
       " 'LFC3',\n",
       " 'LFC4',\n",
       " 'LFC5',\n",
       " 'LFC6',\n",
       " 'LFC7',\n",
       " 'LFC8',\n",
       " 'LFC9',\n",
       " 'LFC10',\n",
       " 'OCC1',\n",
       " 'OCC2',\n",
       " 'OCC3',\n",
       " 'OCC4',\n",
       " 'OCC5',\n",
       " 'OCC6',\n",
       " 'OCC7',\n",
       " 'OCC8',\n",
       " 'OCC9',\n",
       " 'OCC10',\n",
       " 'OCC11',\n",
       " 'OCC12',\n",
       " 'OCC13',\n",
       " 'EIC1',\n",
       " 'EIC2',\n",
       " 'EIC3',\n",
       " 'EIC4',\n",
       " 'EIC5',\n",
       " 'EIC6',\n",
       " 'EIC7',\n",
       " 'EIC8',\n",
       " 'EIC9',\n",
       " 'EIC10',\n",
       " 'EIC11',\n",
       " 'EIC12',\n",
       " 'EIC13',\n",
       " 'EIC14',\n",
       " 'EIC15',\n",
       " 'EIC16',\n",
       " 'OEDC1',\n",
       " 'OEDC2',\n",
       " 'OEDC3',\n",
       " 'OEDC4',\n",
       " 'OEDC5',\n",
       " 'OEDC6',\n",
       " 'OEDC7',\n",
       " 'EC1',\n",
       " 'EC2',\n",
       " 'EC3',\n",
       " 'EC4',\n",
       " 'EC5',\n",
       " 'EC6',\n",
       " 'EC7',\n",
       " 'EC8',\n",
       " 'SEC1',\n",
       " 'SEC2',\n",
       " 'SEC3',\n",
       " 'SEC4',\n",
       " 'SEC5',\n",
       " 'AFC1',\n",
       " 'AFC2',\n",
       " 'AFC3',\n",
       " 'AFC4',\n",
       " 'AFC5',\n",
       " 'AFC6',\n",
       " 'VC1',\n",
       " 'VC2',\n",
       " 'VC3',\n",
       " 'VC4',\n",
       " 'ANC1',\n",
       " 'ANC2',\n",
       " 'ANC3',\n",
       " 'ANC4',\n",
       " 'ANC5',\n",
       " 'ANC6',\n",
       " 'ANC7',\n",
       " 'ANC8',\n",
       " 'ANC9',\n",
       " 'ANC10',\n",
       " 'ANC11',\n",
       " 'ANC12',\n",
       " 'ANC13',\n",
       " 'ANC14',\n",
       " 'ANC15',\n",
       " 'POBC1',\n",
       " 'POBC2',\n",
       " 'LSC1',\n",
       " 'LSC2',\n",
       " 'LSC3',\n",
       " 'LSC4',\n",
       " 'VOC1',\n",
       " 'VOC2',\n",
       " 'VOC3',\n",
       " 'HC1',\n",
       " 'HC2',\n",
       " 'HC3',\n",
       " 'HC4',\n",
       " 'HC5',\n",
       " 'HC6',\n",
       " 'HC7',\n",
       " 'HC8',\n",
       " 'HC9',\n",
       " 'HC10',\n",
       " 'HC11',\n",
       " 'HC12',\n",
       " 'HC13',\n",
       " 'HC14',\n",
       " 'HC15',\n",
       " 'HC16',\n",
       " 'HC17',\n",
       " 'HC18',\n",
       " 'HC19',\n",
       " 'HC20',\n",
       " 'HC21',\n",
       " 'MHUC1',\n",
       " 'MHUC2',\n",
       " 'AC1',\n",
       " 'AC2',\n",
       " 'ADATE_2',\n",
       " 'ADATE_3',\n",
       " 'ADATE_4',\n",
       " 'ADATE_5',\n",
       " 'ADATE_6',\n",
       " 'ADATE_7',\n",
       " 'ADATE_8',\n",
       " 'ADATE_9',\n",
       " 'ADATE_10',\n",
       " 'ADATE_11',\n",
       " 'ADATE_12',\n",
       " 'ADATE_13',\n",
       " 'ADATE_14',\n",
       " 'ADATE_15',\n",
       " 'ADATE_16',\n",
       " 'ADATE_17',\n",
       " 'ADATE_18',\n",
       " 'ADATE_19',\n",
       " 'ADATE_20',\n",
       " 'ADATE_21',\n",
       " 'ADATE_22',\n",
       " 'ADATE_23',\n",
       " 'ADATE_24',\n",
       " 'RFA_2',\n",
       " 'RFA_3',\n",
       " 'RFA_4',\n",
       " 'RFA_5',\n",
       " 'RFA_6',\n",
       " 'RFA_7',\n",
       " 'RFA_8',\n",
       " 'RFA_9',\n",
       " 'RFA_10',\n",
       " 'RFA_11',\n",
       " 'RFA_12',\n",
       " 'RFA_13',\n",
       " 'RFA_14',\n",
       " 'RFA_15',\n",
       " 'RFA_16',\n",
       " 'RFA_17',\n",
       " 'RFA_18',\n",
       " 'RFA_19',\n",
       " 'RFA_20',\n",
       " 'RFA_21',\n",
       " 'RFA_22',\n",
       " 'RFA_23',\n",
       " 'RFA_24',\n",
       " 'CARDPROM',\n",
       " 'MAXADATE',\n",
       " 'NUMPROM',\n",
       " 'CARDPM12',\n",
       " 'NUMPRM12',\n",
       " 'RDATE_3',\n",
       " 'RDATE_4',\n",
       " 'RDATE_5',\n",
       " 'RDATE_6',\n",
       " 'RDATE_7',\n",
       " 'RDATE_8',\n",
       " 'RDATE_9',\n",
       " 'RDATE_10',\n",
       " 'RDATE_11',\n",
       " 'RDATE_12',\n",
       " 'RDATE_13',\n",
       " 'RDATE_14',\n",
       " 'RDATE_15',\n",
       " 'RDATE_16',\n",
       " 'RDATE_17',\n",
       " 'RDATE_18',\n",
       " 'RDATE_19',\n",
       " 'RDATE_20',\n",
       " 'RDATE_21',\n",
       " 'RDATE_22',\n",
       " 'RDATE_23',\n",
       " 'RDATE_24',\n",
       " 'RAMNT_3',\n",
       " 'RAMNT_4',\n",
       " 'RAMNT_5',\n",
       " 'RAMNT_6',\n",
       " 'RAMNT_7',\n",
       " 'RAMNT_8',\n",
       " 'RAMNT_9',\n",
       " 'RAMNT_10',\n",
       " 'RAMNT_11',\n",
       " 'RAMNT_12',\n",
       " 'RAMNT_13',\n",
       " 'RAMNT_14',\n",
       " 'RAMNT_15',\n",
       " 'RAMNT_16',\n",
       " 'RAMNT_17',\n",
       " 'RAMNT_18',\n",
       " 'RAMNT_19',\n",
       " 'RAMNT_20',\n",
       " 'RAMNT_21',\n",
       " 'RAMNT_22',\n",
       " 'RAMNT_23',\n",
       " 'RAMNT_24',\n",
       " 'RAMNTALL',\n",
       " 'NGIFTALL',\n",
       " 'CARDGIFT',\n",
       " 'MINRAMNT',\n",
       " 'MINRDATE',\n",
       " 'MAXRAMNT',\n",
       " 'MAXRDATE',\n",
       " 'LASTGIFT',\n",
       " 'LASTDATE',\n",
       " 'FISTDATE',\n",
       " 'NEXTDATE',\n",
       " 'TIMELAG',\n",
       " 'AVGGIFT',\n",
       " 'CONTROLN',\n",
       " 'HPHONE_D',\n",
       " 'RFA_2R',\n",
       " 'RFA_2F',\n",
       " 'RFA_2A',\n",
       " 'MDMAUD_R',\n",
       " 'MDMAUD_F',\n",
       " 'MDMAUD_A',\n",
       " 'GEOCODE2']"
      ]
     },
     "execution_count": 43,
     "metadata": {},
     "output_type": "execute_result"
    }
   ],
   "source": [
    "donors.columns.tolist()"
   ]
  },
  {
   "cell_type": "code",
   "execution_count": null,
   "metadata": {},
   "outputs": [],
   "source": []
  },
  {
   "cell_type": "markdown",
   "metadata": {},
   "source": [
    "# start\n"
   ]
  },
  {
   "cell_type": "code",
   "execution_count": 44,
   "metadata": {},
   "outputs": [
    {
     "data": {
      "text/plain": [
       "57"
      ]
     },
     "execution_count": 44,
     "metadata": {},
     "output_type": "execute_result"
    }
   ],
   "source": [
    "#BELO - COHERENCE\n",
    "#it has more than 50 states bc it includes US territories like the Virgin Islands, Northern Mariana Islands, Guam, etc\n",
    "donors['STATE'].nunique()"
   ]
  },
  {
   "cell_type": "code",
   "execution_count": 45,
   "metadata": {},
   "outputs": [
    {
     "data": {
      "text/plain": [
       "0"
      ]
     },
     "execution_count": 45,
     "metadata": {},
     "output_type": "execute_result"
    }
   ],
   "source": [
    "#no donors after today's date\n",
    "donors['ODATEDW'] = pd.to_datetime(donors['ODATEDW'])\n",
    "(donors['ODATEDW'] > datetime.datetime.now()).sum()"
   ]
  },
  {
   "cell_type": "code",
   "execution_count": 46,
   "metadata": {},
   "outputs": [
    {
     "data": {
      "text/plain": [
       "0    61203\n",
       "0    33882\n",
       "1      195\n",
       "1       90\n",
       "X       35\n",
       "         7\n",
       "Name: NOEXCH, dtype: int64"
      ]
     },
     "execution_count": 46,
     "metadata": {},
     "output_type": "execute_result"
    }
   ],
   "source": [
    "donors['NOEXCH'].value_counts()\n",
    "#drop this! (incoherent, bc the variable is not very relevant and it \n",
    "#is not consistent with the metadata's variables explanation -> explicar\n",
    "\n",
    "#melhor no relatório)"
   ]
  },
  {
   "cell_type": "code",
   "execution_count": 47,
   "metadata": {},
   "outputs": [
    {
     "data": {
      "text/plain": [
       "F    51277\n",
       "M    39094\n",
       "      2957\n",
       "U     1715\n",
       "J      365\n",
       "A        2\n",
       "C        2\n",
       "Name: GENDER, dtype: int64"
      ]
     },
     "execution_count": 47,
     "metadata": {},
     "output_type": "execute_result"
    }
   ],
   "source": [
    "donors['GENDER'].value_counts() \n",
    "# A and C are incoherent, we will assume as U: Unknown"
   ]
  },
  {
   "cell_type": "code",
   "execution_count": 48,
   "metadata": {},
   "outputs": [
    {
     "name": "stdout",
     "output_type": "stream",
     "text": [
      "< 0: \n",
      " MALEMILI    0\n",
      "MALEVET     0\n",
      "VIETVETS    0\n",
      "WWIIVETS    0\n",
      "LOCALGOV    0\n",
      "STATEGOV    0\n",
      "dtype: int64\n",
      "> 100: \n",
      " MALEMILI    0\n",
      "MALEVET     0\n",
      "VIETVETS    0\n",
      "WWIIVETS    0\n",
      "LOCALGOV    0\n",
      "STATEGOV    0\n",
      "dtype: int64\n"
     ]
    }
   ],
   "source": [
    "print('< 0: \\n', (donors.iloc[:, 41:47] < 0).sum())\n",
    "print('> 100: \\n', (donors.iloc[:, 41:47] > 100).sum())\n",
    "\n",
    "#no incoherence"
   ]
  },
  {
   "cell_type": "code",
   "execution_count": 49,
   "metadata": {},
   "outputs": [],
   "source": [
    "donors = donors[donors['AGE902'] != 0]"
   ]
  },
  {
   "cell_type": "code",
   "execution_count": 50,
   "metadata": {},
   "outputs": [
    {
     "data": {
      "text/plain": [
       "27"
      ]
     },
     "execution_count": 50,
     "metadata": {},
     "output_type": "execute_result"
    }
   ],
   "source": [
    "donors['AGE906'].min()"
   ]
  },
  {
   "cell_type": "code",
   "execution_count": 51,
   "metadata": {},
   "outputs": [],
   "source": [
    "#PROBLEM on AGE902: \"Median Age of Adults 18 or Older\" but it had a value that was 0... actually, after analyzing the \n",
    "#subset of donors that had AGE902 equal to 0, we found out that the vast majority of them had also 0 in basically all\n",
    "#socio-demographic variables. This leads us to belive taht the missing values on this columns may be represented by a 0 other than\n",
    "#a Numpy NaN. Anyways, these records have incoherences, and for this reason, they should be removed (799 records!).\n",
    "\n",
    "#They have donations... but they should be removed anyways. \n",
    "#bc it would be a lot of records and diferente variables to predict\n",
    "\n",
    "#after removing this records other incoherences in other variables were also removed"
   ]
  },
  {
   "cell_type": "code",
   "execution_count": 52,
   "metadata": {},
   "outputs": [
    {
     "data": {
      "text/plain": [
       "POP903     0.0\n",
       "POP90C1    0.0\n",
       "POP90C2    0.0\n",
       "POP90C3    0.0\n",
       "POP90C4    0.0\n",
       "          ... \n",
       "HC20       0.0\n",
       "HC21       0.0\n",
       "MHUC1      0.0\n",
       "MHUC2      0.0\n",
       "AC1        0.0\n",
       "Length: 283, dtype: float64"
      ]
     },
     "execution_count": 52,
     "metadata": {},
     "output_type": "execute_result"
    }
   ],
   "source": [
    "(donors.iloc[:, 75:358]).min()\n",
    "#(donors.iloc[:, 75:358]).max()\n",
    "\n",
    "## percentagens sem incoerencias (tudo entre 0-10), nao sei se precisamos incluir\n",
    "\n",
    "\n",
    "#  Minimos:\n",
    "#HHP1/2 == 0 doenst make sense\n",
    "#HV1/2 a house with 0 value ??\n",
    "#4/5 rent == 0 ?? \n",
    "#RPH's dont make sense to have avg of 0 rooms per housing unit \n",
    "#IC1:5 also doesnt make sense we have avg and medians of value 0\n",
    "#TPE10/11 MEDIAN == 0 ??\n",
    "#EC1 lowest values == 89 ?? doesnt make any sense \n",
    "#MHUC1/2 also minimum value of 0\n",
    "\n",
    "#most of median minimum values == 0 doesnt make sense.. DROP?????\n",
    "\n",
    "\n",
    "# Maximos:\n",
    "# HHP1/2 == 650/700 how is that possible??\n",
    "# RPH's value are too high 85/90/61/40\n",
    "## EC1 -- 170 years of median, impossible\n",
    "#MHUC1/2 max value 21/5 values are too low \n",
    "\n",
    "\n",
    "#I think most or all median values are incorrect. \n",
    "#Some are impossible and other are possible but dont make sense I a real world scenario\n",
    "#for that I think they should be removed and use only the percentages for our analysis"
   ]
  },
  {
   "cell_type": "code",
   "execution_count": 53,
   "metadata": {},
   "outputs": [],
   "source": [
    "#PROBLEM on HV1: \"Median Home Value in hundreds\" has values of 0, and then, the second lowest, 75 (which means 7500)... \n",
    "#the values of 0 are incoherences!!? (Belo) (318 records - same on HV2)\n"
   ]
  },
  {
   "cell_type": "code",
   "execution_count": 54,
   "metadata": {},
   "outputs": [],
   "source": [
    "#EC1: \"Median Years of School Completed by Adults 25+\" has minimum 89 and maximum 170... are the values wrong?\n",
    "\n",
    "#HC1: \"Percent Median Length of Residence\" is percent and median at the same time? And has values of 0 length! Is it the \n",
    "#median time someone has been living in their current home, in years? Very ambiguous:\n",
    "#HC2: this one has a less ambiguous description but it still says \"Percent Median\" so is it a percentage or a median? \n",
    "#it is confusing"
   ]
  },
  {
   "cell_type": "code",
   "execution_count": null,
   "metadata": {},
   "outputs": [],
   "source": []
  },
  {
   "cell_type": "code",
   "execution_count": 89,
   "metadata": {},
   "outputs": [],
   "source": []
  },
  {
   "cell_type": "code",
   "execution_count": 55,
   "metadata": {},
   "outputs": [
    {
     "data": {
      "text/plain": [
       "0   2009-01-01\n",
       "1   2014-01-01\n",
       "2   2010-01-01\n",
       "3   2007-01-01\n",
       "4   2006-01-01\n",
       "Name: ODATEDW, dtype: datetime64[ns]"
      ]
     },
     "execution_count": 55,
     "metadata": {},
     "output_type": "execute_result"
    }
   ],
   "source": [
    "donors['ODATEDW'].head()"
   ]
  },
  {
   "cell_type": "code",
   "execution_count": 87,
   "metadata": {},
   "outputs": [
    {
     "data": {
      "text/plain": [
       "17445"
      ]
     },
     "execution_count": 87,
     "metadata": {},
     "output_type": "execute_result"
    }
   ],
   "source": [
    "#now the dates are datetime\n",
    "donors['FISTDATE'] = pd.to_datetime(donors['FISTDATE'], errors='ignore')\n",
    "\n",
    "#            FISTDATE:  Date of first gift \n",
    "#                cant be before \n",
    "#   ODATEDW: Origin Date. Date of donor's first gift to PVA\n",
    "\n",
    "#                  RIGHT ?!!!!!!!!!!!!!????????????\n",
    "\n",
    "(donors['FISTDATE'] < donors['ODATEDW']).sum()\n",
    "\n",
    "## FISTDATE < ODATEDW substituir por ODATEDW - incoerencia"
   ]
  },
  {
   "cell_type": "code",
   "execution_count": 57,
   "metadata": {},
   "outputs": [],
   "source": [
    "donors['ODATEDW'] = pd.to_datetime(donors['ODATEDW'])\n",
    "donors['DOB'] = pd.to_datetime(donors['DOB'], errors='coerce')\n",
    "donors.iloc[:, 350:373] = donors.iloc[:, 350:373].apply(pd.to_datetime, errors='coerce') #from ADATE_2 until ADATE_24\n",
    "donors['MAXADATE'] = pd.to_datetime(donors['MAXADATE'])\n",
    "donors.iloc[:, 378:400] = donors.iloc[:, 378:400].apply(pd.to_datetime, errors='coerce') #from RDATE_3 until RDATE_24\n",
    "donors['MINRDATE'] = pd.to_datetime(donors['MINRDATE'])\n",
    "donors['MAXRDATE'] = pd.to_datetime(donors['MAXRDATE'])\n",
    "donors['LASTDATE'] = pd.to_datetime(donors['LASTDATE'])\n",
    "donors['FISTDATE'] = pd.to_datetime(donors['FISTDATE'], errors='coerce')\n",
    "donors['NEXTDATE'] = pd.to_datetime(donors['NEXTDATE'], errors='coerce')"
   ]
  },
  {
   "cell_type": "markdown",
   "metadata": {},
   "source": [
    "###### DOB incoherence"
   ]
  },
  {
   "cell_type": "code",
   "execution_count": 58,
   "metadata": {},
   "outputs": [
    {
     "data": {
      "text/plain": [
       "0"
      ]
     },
     "execution_count": 58,
     "metadata": {},
     "output_type": "execute_result"
    }
   ],
   "source": [
    "#DOB incoherence\n",
    "#Assuming we are in 2020 we have donors with less than 18 years (we dont have nothing saying that they must be 18\n",
    "#so we will keep the variables). What we are going to check is if they have children if they are less than 16\n",
    "\n",
    "(donors.loc[:, 'DOB'] > datetime.datetime(2020, 1, 1)).sum()\n",
    "#No DOB after 2020-1-1\n"
   ]
  },
  {
   "cell_type": "code",
   "execution_count": 59,
   "metadata": {},
   "outputs": [
    {
     "data": {
      "text/plain": [
       "23488"
      ]
     },
     "execution_count": 59,
     "metadata": {},
     "output_type": "execute_result"
    }
   ],
   "source": [
    "donors.DOB.isnull().sum()\n",
    "#24k MV's"
   ]
  },
  {
   "cell_type": "code",
   "execution_count": 60,
   "metadata": {},
   "outputs": [
    {
     "data": {
      "text/plain": [
       "424"
      ]
     },
     "execution_count": 60,
     "metadata": {},
     "output_type": "execute_result"
    }
   ],
   "source": [
    "(donors.loc[:, 'DOB'] > datetime.datetime(2004, 12, 31)).sum()\n",
    "#we have 424 donors with less than 16 years"
   ]
  },
  {
   "cell_type": "code",
   "execution_count": 68,
   "metadata": {},
   "outputs": [
    {
     "data": {
      "text/html": [
       "<div>\n",
       "<style scoped>\n",
       "    .dataframe tbody tr th:only-of-type {\n",
       "        vertical-align: middle;\n",
       "    }\n",
       "\n",
       "    .dataframe tbody tr th {\n",
       "        vertical-align: top;\n",
       "    }\n",
       "\n",
       "    .dataframe thead th {\n",
       "        text-align: right;\n",
       "    }\n",
       "</style>\n",
       "<table border=\"1\" class=\"dataframe\">\n",
       "  <thead>\n",
       "    <tr style=\"text-align: right;\">\n",
       "      <th></th>\n",
       "      <th>DOB</th>\n",
       "      <th>NUMCHLD</th>\n",
       "      <th>GENDER</th>\n",
       "    </tr>\n",
       "  </thead>\n",
       "  <tbody>\n",
       "    <tr>\n",
       "      <th>6892</th>\n",
       "      <td>2010-09-01</td>\n",
       "      <td>1.0</td>\n",
       "      <td>M</td>\n",
       "    </tr>\n",
       "    <tr>\n",
       "      <th>7214</th>\n",
       "      <td>2010-09-01</td>\n",
       "      <td>1.0</td>\n",
       "      <td>F</td>\n",
       "    </tr>\n",
       "    <tr>\n",
       "      <th>10687</th>\n",
       "      <td>2007-03-01</td>\n",
       "      <td>3.0</td>\n",
       "      <td>M</td>\n",
       "    </tr>\n",
       "    <tr>\n",
       "      <th>11591</th>\n",
       "      <td>2010-02-01</td>\n",
       "      <td>1.0</td>\n",
       "      <td>M</td>\n",
       "    </tr>\n",
       "    <tr>\n",
       "      <th>19864</th>\n",
       "      <td>2010-03-01</td>\n",
       "      <td>4.0</td>\n",
       "      <td>F</td>\n",
       "    </tr>\n",
       "    <tr>\n",
       "      <th>25211</th>\n",
       "      <td>2010-09-01</td>\n",
       "      <td>1.0</td>\n",
       "      <td>M</td>\n",
       "    </tr>\n",
       "    <tr>\n",
       "      <th>25335</th>\n",
       "      <td>2010-08-01</td>\n",
       "      <td>2.0</td>\n",
       "      <td>M</td>\n",
       "    </tr>\n",
       "    <tr>\n",
       "      <th>25598</th>\n",
       "      <td>2010-05-01</td>\n",
       "      <td>1.0</td>\n",
       "      <td>M</td>\n",
       "    </tr>\n",
       "    <tr>\n",
       "      <th>37897</th>\n",
       "      <td>2010-09-01</td>\n",
       "      <td>1.0</td>\n",
       "      <td>F</td>\n",
       "    </tr>\n",
       "    <tr>\n",
       "      <th>40851</th>\n",
       "      <td>2010-06-01</td>\n",
       "      <td>1.0</td>\n",
       "      <td>F</td>\n",
       "    </tr>\n",
       "    <tr>\n",
       "      <th>44773</th>\n",
       "      <td>2010-01-01</td>\n",
       "      <td>2.0</td>\n",
       "      <td>F</td>\n",
       "    </tr>\n",
       "    <tr>\n",
       "      <th>48711</th>\n",
       "      <td>2010-01-01</td>\n",
       "      <td>1.0</td>\n",
       "      <td>F</td>\n",
       "    </tr>\n",
       "    <tr>\n",
       "      <th>49227</th>\n",
       "      <td>2010-07-01</td>\n",
       "      <td>1.0</td>\n",
       "      <td>M</td>\n",
       "    </tr>\n",
       "    <tr>\n",
       "      <th>52492</th>\n",
       "      <td>2010-02-01</td>\n",
       "      <td>1.0</td>\n",
       "      <td>M</td>\n",
       "    </tr>\n",
       "    <tr>\n",
       "      <th>57687</th>\n",
       "      <td>2013-09-01</td>\n",
       "      <td>2.0</td>\n",
       "      <td>M</td>\n",
       "    </tr>\n",
       "    <tr>\n",
       "      <th>63233</th>\n",
       "      <td>2010-01-01</td>\n",
       "      <td>1.0</td>\n",
       "      <td>M</td>\n",
       "    </tr>\n",
       "    <tr>\n",
       "      <th>73585</th>\n",
       "      <td>2010-08-01</td>\n",
       "      <td>1.0</td>\n",
       "      <td>M</td>\n",
       "    </tr>\n",
       "    <tr>\n",
       "      <th>76406</th>\n",
       "      <td>2009-12-01</td>\n",
       "      <td>3.0</td>\n",
       "      <td>F</td>\n",
       "    </tr>\n",
       "    <tr>\n",
       "      <th>84122</th>\n",
       "      <td>2006-11-01</td>\n",
       "      <td>2.0</td>\n",
       "      <td>M</td>\n",
       "    </tr>\n",
       "    <tr>\n",
       "      <th>85994</th>\n",
       "      <td>2010-01-01</td>\n",
       "      <td>1.0</td>\n",
       "      <td>F</td>\n",
       "    </tr>\n",
       "    <tr>\n",
       "      <th>89090</th>\n",
       "      <td>2005-05-01</td>\n",
       "      <td>3.0</td>\n",
       "      <td>M</td>\n",
       "    </tr>\n",
       "    <tr>\n",
       "      <th>89945</th>\n",
       "      <td>2010-09-01</td>\n",
       "      <td>1.0</td>\n",
       "      <td>M</td>\n",
       "    </tr>\n",
       "    <tr>\n",
       "      <th>92548</th>\n",
       "      <td>2010-01-01</td>\n",
       "      <td>3.0</td>\n",
       "      <td>F</td>\n",
       "    </tr>\n",
       "    <tr>\n",
       "      <th>93189</th>\n",
       "      <td>2013-10-01</td>\n",
       "      <td>1.0</td>\n",
       "      <td>M</td>\n",
       "    </tr>\n",
       "  </tbody>\n",
       "</table>\n",
       "</div>"
      ],
      "text/plain": [
       "             DOB  NUMCHLD GENDER\n",
       "6892  2010-09-01      1.0      M\n",
       "7214  2010-09-01      1.0      F\n",
       "10687 2007-03-01      3.0      M\n",
       "11591 2010-02-01      1.0      M\n",
       "19864 2010-03-01      4.0      F\n",
       "25211 2010-09-01      1.0      M\n",
       "25335 2010-08-01      2.0      M\n",
       "25598 2010-05-01      1.0      M\n",
       "37897 2010-09-01      1.0      F\n",
       "40851 2010-06-01      1.0      F\n",
       "44773 2010-01-01      2.0      F\n",
       "48711 2010-01-01      1.0      F\n",
       "49227 2010-07-01      1.0      M\n",
       "52492 2010-02-01      1.0      M\n",
       "57687 2013-09-01      2.0      M\n",
       "63233 2010-01-01      1.0      M\n",
       "73585 2010-08-01      1.0      M\n",
       "76406 2009-12-01      3.0      F\n",
       "84122 2006-11-01      2.0      M\n",
       "85994 2010-01-01      1.0      F\n",
       "89090 2005-05-01      3.0      M\n",
       "89945 2010-09-01      1.0      M\n",
       "92548 2010-01-01      3.0      F\n",
       "93189 2013-10-01      1.0      M"
      ]
     },
     "execution_count": 68,
     "metadata": {},
     "output_type": "execute_result"
    }
   ],
   "source": [
    "donors.loc[(donors['DOB']> datetime.datetime(2004, 12, 31)) & (donors['NUMCHLD'] > 0), ['DOB', 'NUMCHLD', 'GENDER']]\n",
    "#At least 24 children under 16 yo have 1 or more child... drop??"
   ]
  },
  {
   "cell_type": "markdown",
   "metadata": {},
   "source": [
    "##### NUMCHLD INCOHERENCE"
   ]
  },
  {
   "cell_type": "code",
   "execution_count": 62,
   "metadata": {},
   "outputs": [
    {
     "data": {
      "text/plain": [
       "array([' ', 'M', 'F', 'B'], dtype=object)"
      ]
     },
     "execution_count": 62,
     "metadata": {},
     "output_type": "execute_result"
    }
   ],
   "source": [
    "donors['CHILD03'].unique()"
   ]
  },
  {
   "cell_type": "code",
   "execution_count": 63,
   "metadata": {},
   "outputs": [
    {
     "data": {
      "text/plain": [
       "array([' ', 'M', 'B', 'F'], dtype=object)"
      ]
     },
     "execution_count": 63,
     "metadata": {},
     "output_type": "execute_result"
    }
   ],
   "source": [
    "donors['CHILD07'].unique()"
   ]
  },
  {
   "cell_type": "code",
   "execution_count": 64,
   "metadata": {},
   "outputs": [
    {
     "data": {
      "text/plain": [
       "array([' ', 'F', 'M', 'B'], dtype=object)"
      ]
     },
     "execution_count": 64,
     "metadata": {},
     "output_type": "execute_result"
    }
   ],
   "source": [
    "donors['CHILD12'].unique()"
   ]
  },
  {
   "cell_type": "code",
   "execution_count": 65,
   "metadata": {},
   "outputs": [
    {
     "data": {
      "text/plain": [
       "array([' ', 'M', 'F', 'B'], dtype=object)"
      ]
     },
     "execution_count": 65,
     "metadata": {},
     "output_type": "execute_result"
    }
   ],
   "source": [
    "donors['CHILD18'].unique()"
   ]
  },
  {
   "cell_type": "code",
   "execution_count": 66,
   "metadata": {},
   "outputs": [
    {
     "data": {
      "text/plain": [
       "0        NaN\n",
       "2        NaN\n",
       "3        NaN\n",
       "4        1.0\n",
       "5        NaN\n",
       "        ... \n",
       "95406    NaN\n",
       "95407    NaN\n",
       "95409    NaN\n",
       "95410    NaN\n",
       "95411    NaN\n",
       "Name: NUMCHLD, Length: 88742, dtype: float64"
      ]
     },
     "execution_count": 66,
     "metadata": {},
     "output_type": "execute_result"
    }
   ],
   "source": [
    "#Assuming that when we have: ' ' the donors has no child\n",
    "\n",
    "(donors.loc[(donors['CHILD03'] == ' ') & (donors['CHILD07'] == ' ') & (donors['CHILD12'] == ' ') & (donors['CHILD18'] == ' '),\n",
    "           'NUMCHLD'])"
   ]
  },
  {
   "cell_type": "code",
   "execution_count": 67,
   "metadata": {},
   "outputs": [
    {
     "data": {
      "text/plain": [
       "82283"
      ]
     },
     "execution_count": 67,
     "metadata": {},
     "output_type": "execute_result"
    }
   ],
   "source": [
    "donors['NUMCHLD'].isnull().sum()"
   ]
  },
  {
   "cell_type": "code",
   "execution_count": 79,
   "metadata": {},
   "outputs": [],
   "source": [
    "donors.replace({'OSOURCE' : {' ' : np.nan},\n",
    "'MAILCODE' : {' ' : '0', 'B' : '1'},\n",
    "'PVASTATE' : {' ' : 'N'}, #N = state is not served by any organization\n",
    "'RECINHSE' : {' ' : '0', 'X' : '1'},\n",
    "'RECP3' : {' ' : '0', 'X' : '1'},\n",
    "'RECPGVG': {' ' : '0', 'X' : '1'},\n",
    "'RECSWEEP': {' ' : '0', 'X' : '1'},\n",
    "'HOMEOWNR' : {' ' : '0', 'H' : '1', 'U' : '0'}, #we assume the blank space on this variable says that it is unknown wether the donor has or not a home (so, we joined it with the 0-Unkwown)\n",
    "'CHILD03' : {' ' : 'N'}, #the ' ' (blank) will be replaced by 'N' (N = None), as we assume the blank space in this variable means the donor has no\n",
    "'CHILD07' : {' ' : 'N'}, #children in that specific range of ages\n",
    "'CHILD12': {' ' : 'N'}, #note: more than 90 000 records have None, on each of these 4 variables\n",
    "'CHILD18': {' ' : 'N'},\n",
    "'NUMCHLD': {np.nan : 0}, #assuming NaN is zero, bc there is no zero on this variable!?\n",
    "'GENDER' : {' ' : 'U', 'A' : 'U', 'C' : 'U'}, #Incoherence (Belo!) -> nem que se fale só no relatório!\n",
    "#values 'A' (2 of them) & 'C' (2) are not described on the metadata, most probably those are errors\n",
    "#we assume the blank spaces, As and Cs can be assumed to be Unkwown\n",
    "'SOLP3' : {' ' : 'Default'},\n",
    "'SOLIH' : {' ' : 'Default'}, #feature engineering: create a binary with -> 0 (can't be mailed), 1 (can be mailed)\n",
    "'MAJOR' : {' ' : '0', 'X' : '1'},\n",
    "'GEOCODE2' : {' ' : np.nan}}, inplace = True)"
   ]
  },
  {
   "cell_type": "code",
   "execution_count": 70,
   "metadata": {},
   "outputs": [
    {
     "data": {
      "text/plain": [
       "array([nan,  1.,  2.,  3.,  4.,  5.,  6.,  7.])"
      ]
     },
     "execution_count": 70,
     "metadata": {},
     "output_type": "execute_result"
    }
   ],
   "source": [
    "donors['NUMCHLD'].unique() #assuming nan is zero childs"
   ]
  },
  {
   "cell_type": "code",
   "execution_count": 82,
   "metadata": {
    "scrolled": true
   },
   "outputs": [
    {
     "data": {
      "text/plain": [
       "1        1.0\n",
       "4        1.0\n",
       "6        1.0\n",
       "10       0.0\n",
       "12       2.0\n",
       "        ... \n",
       "95373    0.0\n",
       "95375    1.0\n",
       "95377    2.0\n",
       "95404    1.0\n",
       "95408    1.0\n",
       "Name: NUMCHLD, Length: 13869, dtype: float64"
      ]
     },
     "execution_count": 82,
     "metadata": {},
     "output_type": "execute_result"
    }
   ],
   "source": [
    "(donors.loc[(donors['CHILD03'] != 'N') | (donors['CHILD07'] != 'N') | (donors['CHILD12'] != 'N') | (donors['CHILD18'] != 'N')\n",
    "            | (donors['NUMCHLD'] != 0), 'NUMCHLD'])"
   ]
  },
  {
   "cell_type": "code",
   "execution_count": null,
   "metadata": {},
   "outputs": [],
   "source": [
    "#New column CHILD: 1 has children(filhos) 0 cc\n",
    "\n"
   ]
  }
 ],
 "metadata": {
  "kernelspec": {
   "display_name": "Python 3",
   "language": "python",
   "name": "python3"
  },
  "language_info": {
   "codemirror_mode": {
    "name": "ipython",
    "version": 3
   },
   "file_extension": ".py",
   "mimetype": "text/x-python",
   "name": "python",
   "nbconvert_exporter": "python",
   "pygments_lexer": "ipython3",
   "version": "3.8.5"
  }
 },
 "nbformat": 4,
 "nbformat_minor": 4
}
