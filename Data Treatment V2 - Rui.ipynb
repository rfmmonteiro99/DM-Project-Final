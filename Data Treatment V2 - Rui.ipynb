{
 "cells": [
  {
   "cell_type": "markdown",
   "metadata": {},
   "source": [
    "# Data Treatment\n",
    "\n",
    "Rui"
   ]
  },
  {
   "cell_type": "code",
   "execution_count": 1,
   "metadata": {},
   "outputs": [],
   "source": [
    "import pandas as pd\n",
    "import numpy as np\n",
    "import os"
   ]
  },
  {
   "cell_type": "code",
   "execution_count": 2,
   "metadata": {
    "scrolled": true
   },
   "outputs": [
    {
     "name": "stderr",
     "output_type": "stream",
     "text": [
      "C:\\Users\\ruifi\\anaconda3\\envs\\DMclasses\\lib\\site-packages\\IPython\\core\\interactiveshell.py:3145: DtypeWarning: Columns (9,412) have mixed types.Specify dtype option on import or set low_memory=False.\n",
      "  has_raised = await self.run_ast_nodes(code_ast.body, cell_name,\n"
     ]
    }
   ],
   "source": [
    "#goes to the previous folder, accesses the data folder, and gets the path to the donors.csv file (this is done bc the is\n",
    "#too large to upload on GitHub)\n",
    "path = os.path.join('..', 'data', 'donors.csv')\n",
    "\n",
    "donors = pd.read_csv(path, sep = ',')\n",
    "\n",
    "pd.set_option('display.max_columns', None)"
   ]
  },
  {
   "cell_type": "code",
   "execution_count": 8,
   "metadata": {},
   "outputs": [],
   "source": [
    "#CONTROLN: stays as index of the dataset\n",
    "donors.set_index('CONTROLN', inplace=True)"
   ]
  },
  {
   "cell_type": "code",
   "execution_count": 7,
   "metadata": {},
   "outputs": [],
   "source": [
    "#drop these:\n",
    "donors.drop(columns = ['Unnamed: 0',\n",
    "                       'NOEXCH',\n",
    "                       'WEALTH1',\n",
    "                       'DATASRCE',\n",
    "                       'LIFESRC'], inplace = True)\n",
    "\n",
    "#Unnamed: 0: it has indexes from 0 to 95412, it's redundant\n",
    "\n",
    "#NOEXCH: this var. has inconsistencies with the metadata available, as there's no reference to '0', '1', 0 or 1 values\n",
    "#BELO - COHERENCE\n",
    "#drop this! (incoherent, bc the variable has many incoherences with the metadata -> explicar melhor no relatório)\n",
    "#donors['NOEXCH'].value_counts()\n",
    "\n",
    "#WEALTH1 has similar values to WEALTH2 but the metadata does not specify what is the variable, so we decided to keep\n",
    "#the WEALTH2, which is well described\n",
    "#donors = donors.astype({\"WEALTH1\": object})\n",
    "#donors['WEALTH1'].unique()\n",
    "\n",
    "#donors['DATASRCE'].unique()\n",
    "#donors.replace({'DATASRCE' : {' ' : np.nan}}, inplace = True)\n",
    "#says which was the source of the data in this section of variables; it has 21280 ' ' (blanks)\n",
    "#DROP! bc the variable is not very useful for interpreting the clusters (we are not sure about what are the values \n",
    "#representing... companies? we could not find on the internet)\n",
    "\n",
    "#LIFESRC: same as DATASRCE...\n",
    "#donors['LIFESRC'].value_counts()\n",
    "#donors.replace({'LIFESRC' : {' ' : np.nan}}, inplace = True)\n",
    "#says which was the source of the data in this section of variables; it has 54032 ' ' (blanks)\n",
    "#DROP! bc the variable is not very useful for interpreting the clusters (we are not sure about what are the values \n",
    "#representing... companies? we could not find on the internet)"
   ]
  },
  {
   "cell_type": "code",
   "execution_count": null,
   "metadata": {},
   "outputs": [],
   "source": [
    "#put aside the variables that are already related to a PVA's clustering, and may be used in the end to compare it to our\n",
    "#solution...:\n",
    "#donors_pva_cluster = \n",
    "donors[['MDMAUD', 'DOMAIN', 'GEOCODE', 'PEPSTRFL']].copy()\n",
    "\n",
    "#MDMAUD: RFA field, already a clustering from the organization\n",
    "\n",
    "#put this aside because it is clustering (this one is a bit different from the RFA variables)\n",
    "#donors_pva_cluster.replace({'DOMAIN' : {' ' : np.nan}}, inplace = True)\n",
    "\n",
    "#GEOCODE is what? Put aside for now - clustering\n",
    "#donors_pva_cluster.replace({'GEOCODE' : {' ' : np.nan}}, inplace = True)\n",
    "\n",
    "#probably put aside! bc it's related to RFA\n",
    "#donors_pva_cluster.replace({'PEPSTRFL' : {'X' : '1', ' ' : '0'}}, inplace = True)\n",
    "\n",
    "#from RFA_2 to RFA_24: these are variables with a clustering solution from PVA; don't use them for now (maybe use them\n",
    "#in the end to compare with our own clustering solution)\n",
    "\n",
    "\n",
    "\n",
    "\n",
    "\n",
    "\n",
    "\n",
    "\n",
    "\n",
    "\n",
    "#CONTINUE!"
   ]
  },
  {
   "cell_type": "code",
   "execution_count": 8,
   "metadata": {},
   "outputs": [],
   "source": [
    "#note -> 'NUMCHLD' : int, altough it cannot be converted due to NaNs (float)!\n",
    "donors = donors.astype({'TCODE': object, \n",
    "                        'INCOME': object,\n",
    "                        'WEALTH2': object,\n",
    "                        'MSA': object,\n",
    "                        'ADI': object,\n",
    "                        'DMA': object,\n",
    "                        'HPHONE_D': object})\n",
    "\n",
    "#INCOME: from the Forums: 7 correspond to the highest income group and 0 to the lowest one\n",
    "\n",
    "#MSA has values 0, which is not a MSA code. After researching what does this code represent in the US census, we assume \n",
    "#those 0s are for the doners that do not live in a metropolitan statistical area (MSA), a region with at least one \n",
    "#urbanized area and a minimum population of 50 000 (Investopedia); so those people may live in towns or rural areas.\n",
    "\n",
    "#ADI has values 0, which is not an ADI code. After researching what does this code represents, we assume \n",
    "#those 0s are for the doners that do not live in a radio or television market region in which that specific population \n",
    "#receives the same programming (https://www.insightsassociation.org/issues-policies/glossary/area-dominant-influence-adi);\n",
    "#this is related to marketing, and those people may live in regions that are not assigned to a code (but this is not a \n",
    "#missing value!).\n",
    "\n",
    "#DMA has values 0, which is not a DMA code. After researching what does this code represents, we assume \n",
    "#those 0s are for the doners that do not live in a geographic area in the United States in which local television viewing \n",
    "#is measured by Nielsen (https://www.nielsen.com/us/en/intl-campaigns/dma-maps/#:~:text=DMA%20(Designated%20Market%20Area)%20regions,geographic%20areas%20within%20their%20business.)\n",
    "#again, this code is related to marketing, and those people may live in regions that are not assigned to a code (but this \n",
    "#is not a missing value!).\n",
    "\n",
    "#HPHONE_D is binary (0 or 1)"
   ]
  },
  {
   "cell_type": "code",
   "execution_count": 6,
   "metadata": {},
   "outputs": [],
   "source": [
    "#dates as string, now as datetimes\n",
    "#note -> errors='ignore' <=> missing values stay as is\n",
    "donors['ODATEDW'] = pd.to_datetime(donors['ODATEDW'])\n",
    "donors['DOB'] = pd.to_datetime(donors['DOB'], errors='ignore')\n",
    "donors.iloc[:, 359:382] = donors.iloc[:, 359:382].apply(pd.to_datetime, errors='ignore') #from ADATE_2 until ADATE_24\n",
    "donors['MAXADATE'] = pd.to_datetime(donors['MAXADATE'])\n",
    "donors.iloc[:, 410:432] = donors.iloc[:, 410:432].apply(pd.to_datetime, errors='ignore') #from RDATE_3 until RDATE_24\n",
    "donors['MINRDATE'] = pd.to_datetime(donors['MINRDATE'])\n",
    "donors['MAXRDATE'] = pd.to_datetime(donors['MAXRDATE'])\n",
    "donors['LASTDATE'] = pd.to_datetime(donors['LASTDATE'])\n",
    "donors['FISTDATE'] = pd.to_datetime(donors['FISTDATE'], errors='ignore')\n",
    "donors['NEXTDATE'] = pd.to_datetime(donors['NEXTDATE'], errors='ignore')"
   ]
  },
  {
   "cell_type": "code",
   "execution_count": 15,
   "metadata": {},
   "outputs": [],
   "source": [
    "#to remove the hyphen from the end of the ZIP codes (US zip codes are not supposed to have hyphens, but some do!)\n",
    "donors['ZIP'] = donors['ZIP'].map(lambda x: x.replace('-', ''))\n",
    "\n",
    "#now, the replace: on some vars. swap a blank space for a NaN, on binaries swap the letters for '0' and '1', etc\n",
    "donors.replace({'OSOURCE' : {' ' : np.nan},\n",
    "                'MAILCODE' : {' ' : '0', 'B' : '1'},\n",
    "                'PVASTATE' : {' ' : 'N'}, #N = state is not served by any organization\n",
    "                'RECINHSE' : {' ' : '0', 'X' : '1'},\n",
    "                'RECP3' : {' ' : '0', 'X' : '1'},\n",
    "                'RECPGVG': {' ' : '0', 'X' : '1'},\n",
    "                'RECSWEEP': {' ' : '0', 'X' : '1'},\n",
    "                'HOMEOWNR' : {' ' : '0', 'H' : '1', 'U' : '0'}, #we assume the blank space on this variable says that it is unknown wether the donor has or not a home (so, we joined it with the 0-Unkwown)\n",
    "                'CHILD03' : {' ' : 'N'}, #the ' ' (blank) will be replaced by 'N' (N = None), as we assume the blank space in this variable means the donor has no \n",
    "                'CHILD07' : {' ' : 'N'}, #children in that specific range of ages\n",
    "                'CHILD12': {' ' : 'N'},  #note: more than 90 000 records have None, on each of these 4 variables\n",
    "                'CHILD18': {' ' : 'N'},\n",
    "                'GENDER' : {' ' : 'U', 'A' : 'U', 'C' : 'U'} #Incoherence (Belo!) -> nem que se fale só no relatório!\n",
    "                                                             #values 'A' (2 of them) & 'C' (2) are not described on the metadata, most probably those are errors\n",
    "                                                             #we assume the blank spaces, As and Cs can be assumed to be Unkwown\n",
    "                'SOLP3' : {' ' : 'Default'},\n",
    "                'SOLIH' : {' ' : 'Default'}, #feature engineering: create a binary with -> 0 (can't be mailed), 1 (can be mailed)\n",
    "                'MAJOR' : {' ' : '0', 'X' : '1'},\n",
    "                'GEOCODE2' : {' ' : np.nan}}, inplace = True)\n",
    "\n",
    "#assuming Y = Yes and N = No, on all these vars\n",
    "donors.iloc[:, 53:71].replace({'Y' : '1', ' ' : '0'}, inplace = True) #from COLLECT1 to PLATES"
   ]
  },
  {
   "cell_type": "code",
   "execution_count": 9,
   "metadata": {},
   "outputs": [
    {
     "data": {
      "text/plain": [
       "57"
      ]
     },
     "execution_count": 9,
     "metadata": {},
     "output_type": "execute_result"
    }
   ],
   "source": [
    "#BELO - COHERENCE\n",
    "#it has more than 50 states bc it includes US territories like the Virgin Islands, Northern Mariana Islands, Guam, etc\n",
    "donors['STATE'].nunique()"
   ]
  },
  {
   "cell_type": "code",
   "execution_count": 24,
   "metadata": {},
   "outputs": [],
   "source": [
    "#'HIT' is good to go"
   ]
  },
  {
   "cell_type": "code",
   "execution_count": 25,
   "metadata": {},
   "outputs": [],
   "source": [
    "#from MBCRAFT to PUBOPP, it all looks good; but it has many missing values!"
   ]
  },
  {
   "cell_type": "code",
   "execution_count": 27,
   "metadata": {},
   "outputs": [],
   "source": [
    "#from MALEMILI to FEDGOV there are no MVs and everything is fine (check for incoherences: percentages below 0 or \n",
    "#above 100?)"
   ]
  },
  {
   "cell_type": "code",
   "execution_count": 35,
   "metadata": {},
   "outputs": [],
   "source": [
    "#from POP901 until the end of this set of variables, we assume 0s in the first three (Number of Persons, Families and \n",
    "#Households) represent people that live in rural areas and small towns, with no one living near them (in the neighborhood)\n",
    "\n",
    "#gets resolved when we do donors = donors[donors['AGE902'] != 0] (Coherence checks!)"
   ]
  },
  {
   "cell_type": "code",
   "execution_count": 127,
   "metadata": {},
   "outputs": [],
   "source": [
    "#from POP901 until ETH16, everything looks fine"
   ]
  },
  {
   "cell_type": "code",
   "execution_count": 45,
   "metadata": {},
   "outputs": [],
   "source": [
    "#PROBLEM on AGE902: \"Median Age of Adults 18 or Older\" but it had a value that was 0... actually, after analyzing the \n",
    "#subset of donors that had AGE902 equal to 0, we found out that the vast majority of them had also 0 in basically all\n",
    "#socio-demographic variables. This leads tu belive the missing values on this columns may be represented by a 0 other than\n",
    "#a Numpy NaN. Anyways, these records have incoherences, and for this reason, they should be removed (799 records!).\n",
    "\n",
    "#They have donations... but they should be removed anyways.\n",
    "#dps disto, o MSA, ADI e DMA deixam de ter missings!\n",
    "\n",
    "donors = donors[donors['AGE902'] != 0]"
   ]
  },
  {
   "cell_type": "code",
   "execution_count": 38,
   "metadata": {},
   "outputs": [
    {
     "name": "stderr",
     "output_type": "stream",
     "text": [
      "<ipython-input-38-5bf59fb99d08>:8: SettingWithCopyWarning: \n",
      "A value is trying to be set on a copy of a slice from a DataFrame.\n",
      "Try using .loc[row_indexer,col_indexer] = value instead\n",
      "\n",
      "See the caveats in the documentation: https://pandas.pydata.org/pandas-docs/stable/user_guide/indexing.html#returning-a-view-versus-a-copy\n",
      "  donors['HHP1'] = donors['HHP1'].copy() / 100\n",
      "<ipython-input-38-5bf59fb99d08>:9: SettingWithCopyWarning: \n",
      "A value is trying to be set on a copy of a slice from a DataFrame.\n",
      "Try using .loc[row_indexer,col_indexer] = value instead\n",
      "\n",
      "See the caveats in the documentation: https://pandas.pydata.org/pandas-docs/stable/user_guide/indexing.html#returning-a-view-versus-a-copy\n",
      "  donors['HHP2'] = donors['HHP2'].copy() / 100\n"
     ]
    }
   ],
   "source": [
    "#PROBLEM on HHP1 and HHP2: \"Median Person Per Household\" and \"Average Person Per Household\" but the values are bery high\n",
    "#if we interpret this as the median/average number of people living in a household of the neighborhood, then it should\n",
    "#have values between 1, 2 or 3. Not 100-700. (Incoherence - Belo?)\n",
    "\n",
    "\n",
    "\n",
    "#perguntar ao professor!!\n",
    "#decisão final: (nota: ainda há alguns valores iguais a 0)\n",
    "donors['HHP1'] = donors['HHP1'].copy() / 100\n",
    "donors['HHP2'] = donors['HHP2'].copy() / 100"
   ]
  },
  {
   "cell_type": "code",
   "execution_count": 68,
   "metadata": {},
   "outputs": [],
   "source": [
    "#PROBLEM on HV1 & HV2: \"Median Home Value in hundreds\" has values of 0, and then, the second lowest, 75 (which means 7500) \n",
    "#the values of 0 are 318 records - same on HV2\n",
    "\n",
    "\n",
    "\n",
    "#perguntar ao professor: nestas variáveis, assumimos que os 0s são missings, incoerências, ou representam casas alugadas.\n",
    "#decisão final:\n",
    "#assumption -> there were homes with very low market values, so when the values where divided by 100 to get the value for \n",
    "#the column, it was so close to 0 that the int was 0"
   ]
  },
  {
   "cell_type": "code",
   "execution_count": 69,
   "metadata": {},
   "outputs": [],
   "source": [
    "#HV3 and HV4, related to rents, also have values 0 but that can mean the people are not paying any rent (maybe they bought\n",
    "#the house already, or maybe they live with family members and are not paying, etc)"
   ]
  },
  {
   "cell_type": "code",
   "execution_count": 70,
   "metadata": {},
   "outputs": [],
   "source": [
    "#RHP1 to RHP4 are kinda weird (Housing Unit??)\n",
    "\n",
    "\n",
    "\n",
    "#perguntar ao professor: média/mediana das pessoas ser tão alto (50?); ou a descrição da variável não está correta?\n",
    "#decisão final: we assume this values were multiplied by 10 to avoid storing floats (floats make up more space on data\n",
    "#files), so we divided this columns by 10, for the values to make more \"sense\"\n",
    "donors['RHP1'] = donors['RHP1'] / 10\n",
    "donors['RHP2'] = donors['RHP2'] / 10\n",
    "donors['RHP3'] = donors['RHP3'] / 10\n",
    "donors['RHP4'] = donors['RHP4'] / 10"
   ]
  },
  {
   "cell_type": "code",
   "execution_count": null,
   "metadata": {},
   "outputs": [],
   "source": [
    "#IC1-IC5: values 0 -> don't declare anything to the state?"
   ]
  },
  {
   "cell_type": "code",
   "execution_count": 67,
   "metadata": {
    "scrolled": true
   },
   "outputs": [],
   "source": [
    "#donors['TPE10'] has values of 0: people that work at home or live very near to the company/office/..."
   ]
  },
  {
   "cell_type": "code",
   "execution_count": 68,
   "metadata": {},
   "outputs": [
    {
     "name": "stderr",
     "output_type": "stream",
     "text": [
      "<ipython-input-68-4cc3457d2642>:13: SettingWithCopyWarning: \n",
      "A value is trying to be set on a copy of a slice from a DataFrame.\n",
      "Try using .loc[row_indexer,col_indexer] = value instead\n",
      "\n",
      "See the caveats in the documentation: https://pandas.pydata.org/pandas-docs/stable/user_guide/indexing.html#returning-a-view-versus-a-copy\n",
      "  donors['EC1'] = donors['EC1'] / 10\n"
     ]
    }
   ],
   "source": [
    "#EC1: \"Median Years of School Completed by Adults 25+\" has minimum 89 and maximum 170... are the values wrong?\n",
    "\n",
    "#HC1: \"Percent Median Length of Residence\" is percent and median at the same time? And has values of 0 length! Is it the \n",
    "#median time someone has been living in their current home, in years? Very ambiguous:\n",
    "#HC2: this one has a less ambiguous description but it still says \"Percent Median\" so is it a percentage or a median? \n",
    "#it is confusing\n",
    "\n",
    "\n",
    "#perguntar ao professor: EC1 (mediana de 170 anos a estudar?):\n",
    "#decisão final: divided by 10, because 8.9 (min) and 17.0 (max) are values that make more sense\n",
    "#we assume this values were multiplied by 10 to avoid storing floats (floats make up more space on data\n",
    "#files), so we divided this columns by 10, for the values to make more \"sense\"\n",
    "donors['EC1'] = donors['EC1'] / 10\n",
    "#HC1 e HC2 -> we assume this is a median, the \"percent\" is probably a typo on the metadata descriptions"
   ]
  },
  {
   "cell_type": "code",
   "execution_count": 88,
   "metadata": {},
   "outputs": [],
   "source": [
    "#from RAMNT_3 until RAMNT_24 -> explicado na parte do Tomás"
   ]
  },
  {
   "cell_type": "code",
   "execution_count": 101,
   "metadata": {},
   "outputs": [],
   "source": [
    "#RFA_2R, RFA_2F, RFA_2A are related to RFA (put aside for now?)\n",
    "#MDMAUD_R, MDMAUD_F, MDMAUD_A are related to RFA (put aside for now?)"
   ]
  }
 ],
 "metadata": {
  "kernelspec": {
   "display_name": "Python 3",
   "language": "python",
   "name": "python3"
  },
  "language_info": {
   "codemirror_mode": {
    "name": "ipython",
    "version": 3
   },
   "file_extension": ".py",
   "mimetype": "text/x-python",
   "name": "python",
   "nbconvert_exporter": "python",
   "pygments_lexer": "ipython3",
   "version": "3.8.5"
  }
 },
 "nbformat": 4,
 "nbformat_minor": 4
}
