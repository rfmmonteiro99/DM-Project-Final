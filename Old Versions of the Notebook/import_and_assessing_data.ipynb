{
 "cells": [
  {
   "cell_type": "code",
   "execution_count": null,
   "metadata": {},
   "outputs": [],
   "source": [
    "import pandas as pd\n",
    "import seaborn as sb\n",
    "import numpy as np\n",
    "import matplotlib.pyplot as plt\n",
    "from math import ceil"
   ]
  },
  {
   "cell_type": "code",
   "execution_count": null,
   "metadata": {},
   "outputs": [],
   "source": [
    "# Optional -> to check all the rows and columns\n",
    "# pd.set_option('display.max_columns', None)\n",
    "# pd.set_option('display.max_rows', None)"
   ]
  },
  {
   "cell_type": "code",
   "execution_count": null,
   "metadata": {},
   "outputs": [],
   "source": [
    "data = pd.read_csv('donors.csv')\n",
    "data.head()"
   ]
  },
  {
   "cell_type": "code",
   "execution_count": null,
   "metadata": {},
   "outputs": [],
   "source": [
    "# Unnamed: 0 works as an index so we can drop it\n",
    "data.drop('Unnamed: 0', axis = 1, inplace  = True)\n",
    "data.head()"
   ]
  },
  {
   "cell_type": "code",
   "execution_count": null,
   "metadata": {},
   "outputs": [],
   "source": [
    "# Dimension of the dataset\n",
    "data.shape"
   ]
  },
  {
   "cell_type": "code",
   "execution_count": null,
   "metadata": {},
   "outputs": [],
   "source": [
    "# Data types of the variables and columns\n",
    "data.dtypes"
   ]
  },
  {
   "cell_type": "code",
   "execution_count": null,
   "metadata": {},
   "outputs": [],
   "source": [
    "# Summary Statistics of our variables\n",
    "data.describe(include='all').T"
   ]
  },
  {
   "cell_type": "code",
   "execution_count": null,
   "metadata": {},
   "outputs": [],
   "source": [
    "# Check duplicates\n",
    "any(data.duplicated())"
   ]
  },
  {
   "cell_type": "code",
   "execution_count": null,
   "metadata": {},
   "outputs": [],
   "source": [
    "# Count of missing values\n",
    "data.isna().sum()"
   ]
  },
  {
   "cell_type": "code",
   "execution_count": null,
   "metadata": {},
   "outputs": [],
   "source": [
    "# Define metric and non \n",
    "# RETIRAR DATAS\n",
    "\n",
    "non_metric_vars = data.loc[:,(data.columns==\"id\") | (np.array(data.dtypes==\"object\"))]\n",
    "metric_vars = data.loc[:,(~data.columns.isin(non_metric_vars)) | (np.array(data.dtypes !=\"datetime\"))]"
   ]
  },
  {
   "cell_type": "code",
   "execution_count": null,
   "metadata": {},
   "outputs": [],
   "source": [
    "# Metric Variables Histograms \n",
    "sb.set()\n",
    "\n",
    "# Create individual axes \n",
    "fig, axes = plt.subplots(ceil(len(metric_var)/2), 2, figsize=(20, 900))\n",
    "plt.subplots_adjust(hspace = 0.18)\n",
    "\n",
    "# Plot data\n",
    "for ax, feat in zip(axes.flatten(), metric_var):\n",
    "    ax.hist(data[feat])\n",
    "    ax.set_title(feat, y = -0.16)\n",
    "    \n",
    "plt.show()"
   ]
  },
  {
   "cell_type": "code",
   "execution_count": null,
   "metadata": {},
   "outputs": [],
   "source": [
    "# Non Metric Variables Histograms\n",
    "sb.set()\n",
    "\n",
    "# Prepare figure. Create individual axes where each histogram will be placed\n",
    "fig, axes = plt.subplots(ceil(len(non_metric_var) / 2), 1, figsize=(20, 100))\n",
    "plt.subplots_adjust(hspace = 0.18)\n",
    "\n",
    "# Plot data\n",
    "for ax, feat in zip(axes.flatten(), non_metric_var):\n",
    "    sb.countplot(x=data[feat],  ax=ax)\n",
    "\n",
    "plt.show()"
   ]
  },
  {
   "cell_type": "code",
   "execution_count": null,
   "metadata": {},
   "outputs": [],
   "source": [
    "# Metric Variables Boxplots\n",
    "sb.set(style=\"whitegrid\")\n",
    "\n",
    "#Prepare figure layout\n",
    "fig, axes = plt.subplots(len(metric_vars), 1, figsize=(15,8))\n",
    "\n",
    "# Draw the boxplots\n",
    "for i in zip(axes, metric_vars):\n",
    " sb.boxplot(x=\"variable\", y=\"value\", data=data.loc[data[\"variable\"]==i[1]], ax=i[0])\n",
    " i[0].set_xlabel(\"\")\n",
    " i[0].set_ylabel(\"\")\n",
    "\n",
    "# Finalize the plot\n",
    "plt.suptitle(\"Metric variables' box plots\", fontsize=25)\n",
    "sb.despine(bottom=True)\n",
    "plt.show()"
   ]
  },
  {
   "cell_type": "code",
   "execution_count": null,
   "metadata": {},
   "outputs": [],
   "source": [
    "# Metric Variables Correlation Matrix\n",
    "sb.set(style=\"white\")\n",
    "\n",
    "# Compute the correlation matrix\n",
    "corr = metric_vars.corr() #Getting correlation of numerical variables\n",
    "\n",
    "# Generate a mask for the upper triangle\n",
    "mask = np.zeros_like(corr, dtype=np.bool) #Return an array of zeros (Falses) with the same shape and type as a given array\n",
    "mask[np.triu_indices_from(mask)] = True #The upper-triangle array is now composed by True values\n",
    "\n",
    "# Set up the matplotlib figure\n",
    "fig, ax = plt.subplots(figsize=(12, 8))\n",
    "\n",
    "# Generate a custom diverging colormap\n",
    "cmap = sb.diverging_palette(220, 10, as_cmap=True) #Make a diverging palette between two HUSL colors. Return a matplotlib colormap object.\n",
    "\n",
    "# Draw the heatmap with the mask and correct aspect ratio\n",
    "sb.heatmap(corr, mask=mask, cmap=cmap, center=0, square=True, linewidths=.5, ax=ax)\n",
    "\n",
    "# Layout\n",
    "plt.subplots_adjust(top=0.95)\n",
    "plt.suptitle(\"Correlation matrix\", fontsize=25)\n",
    "plt.yticks(rotation=0)\n",
    "\n",
    "# Fixing the bug of partially cut-off bottom and top cells\n",
    "b, t = plt.ylim() # discover the values for bottom and top\n",
    "b += 0.5 # Add 0.5 to the bottom\n",
    "t -= 0.5 # Subtract 0.5 from the top\n",
    "plt.ylim(b, t) # update the ylim(bottom, top) values\n",
    "plt.show()"
   ]
  },
  {
   "cell_type": "code",
   "execution_count": null,
   "metadata": {
    "scrolled": false
   },
   "outputs": [],
   "source": [
    "# Metric Variables Correlation Matrix\n",
    "def color_red_or_green(val):\n",
    "    if val < -0.7:\n",
    "        color = 'background-color: red'\n",
    "    elif val > 0.7:\n",
    "        color = 'background-color: green'\n",
    "    else:\n",
    "        color = ''\n",
    "    return color\n",
    "\n",
    "# Interpreting each Principal Component\n",
    "correlations = data[metric_var].corr()\n",
    "correlations.style.applymap(color_red_or_green)"
   ]
  }
 ],
 "metadata": {
  "kernelspec": {
   "display_name": "Python 3",
   "language": "python",
   "name": "python3"
  },
  "language_info": {
   "codemirror_mode": {
    "name": "ipython",
    "version": 3
   },
   "file_extension": ".py",
   "mimetype": "text/x-python",
   "name": "python",
   "nbconvert_exporter": "python",
   "pygments_lexer": "ipython3",
   "version": "3.8.5"
  }
 },
 "nbformat": 4,
 "nbformat_minor": 4
}
